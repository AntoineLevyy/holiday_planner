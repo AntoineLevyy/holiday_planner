{
 "cells": [
  {
   "cell_type": "code",
   "execution_count": 5,
   "metadata": {},
   "outputs": [],
   "source": [
    "import openai\n",
    "from dotenv import load_dotenv\n",
    "import os"
   ]
  },
  {
   "cell_type": "code",
   "execution_count": 7,
   "metadata": {},
   "outputs": [],
   "source": [
    "# Load environment variables from the .env file\n",
    "load_dotenv('.env')\n",
    "\n",
    "# Access the API key\n",
    "OPENAI_API_KEY = os.getenv('OPENAI_API_KEY')\n",
    "\n",
    "\n",
    "city = \"New York\"\n",
    "n_days = 5\n",
    "\n",
    "\n",
    "\n",
    "\n",
    "def open_ai_plan_initial(city, n_days):\n",
    "    openai.api_key = OPENAI_API_KEY\n",
    "    open_ai_response = openai.Completion.create(\n",
    "    model=\"text-davinci-003\",\n",
    "    prompt=f\"What should I do on holliday in {city} during {n_days} days. Give me each activity in its on line.\",\n",
    "    max_tokens=250,\n",
    "    temperature=0,\n",
    "    top_p = 0.3\n",
    "    )\n",
    "\n",
    "    text_resume = open_ai_response['choices'][0]['text']\n",
    "    text_resume = text_resume.replace(\"\\n\\n\",\"\")\n",
    "    return text_resume"
   ]
  },
  {
   "cell_type": "code",
   "execution_count": 8,
   "metadata": {},
   "outputs": [],
   "source": [
    "plan = open_ai_plan_initial(city, n_days)"
   ]
  },
  {
   "cell_type": "code",
   "execution_count": 9,
   "metadata": {},
   "outputs": [
    {
     "data": {
      "text/plain": [
       "'1. Visit the Empire State Building and take in the views of the city.\\n2. Take a stroll through Central Park and explore its many attractions.\\n3. Visit the 9/11 Memorial and Museum to pay your respects.\\n4. Take a boat tour around the Statue of Liberty and Ellis Island.\\n5. Explore the vibrant neighborhoods of Brooklyn and Queens.\\n6. Visit the Metropolitan Museum of Art and take in the world-class collections.\\n7. Take a tour of the United Nations Headquarters.\\n8. Enjoy a Broadway show or two.\\n9. Take a ferry to Staten Island and explore the borough.\\n10. Visit the High Line and take in the views of the city from above.'"
      ]
     },
     "execution_count": 9,
     "metadata": {},
     "output_type": "execute_result"
    }
   ],
   "source": [
    "plan"
   ]
  }
 ],
 "metadata": {
  "interpreter": {
   "hash": "0be935d557e992bdc21da3d279db14563c32f371e86e2f9d8aa7a20f3dbe4f9f"
  },
  "kernelspec": {
   "display_name": "Python 3.9.7 ('streamenv': venv)",
   "language": "python",
   "name": "python3"
  },
  "language_info": {
   "codemirror_mode": {
    "name": "ipython",
    "version": 3
   },
   "file_extension": ".py",
   "mimetype": "text/x-python",
   "name": "python",
   "nbconvert_exporter": "python",
   "pygments_lexer": "ipython3",
   "version": "3.9.7"
  },
  "orig_nbformat": 4
 },
 "nbformat": 4,
 "nbformat_minor": 2
}
