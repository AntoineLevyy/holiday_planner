{
 "cells": [],
 "metadata": {
  "interpreter": {
   "hash": "0be935d557e992bdc21da3d279db14563c32f371e86e2f9d8aa7a20f3dbe4f9f"
  },
  "kernelspec": {
   "display_name": "Python 3.9.7 ('streamenv': venv)",
   "language": "python",
   "name": "python3"
  },
  "language_info": {
   "codemirror_mode": {
    "name": "ipython",
    "version": 3
   },
   "file_extension": ".py",
   "mimetype": "text/x-python",
   "name": "python",
   "nbconvert_exporter": "python",
   "pygments_lexer": "ipython3",
   "version": "3.9.7"
  },
  "orig_nbformat": 4
 },
 "nbformat": 4,
 "nbformat_minor": 2
}
